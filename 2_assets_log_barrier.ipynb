{
  "nbformat": 4,
  "nbformat_minor": 0,
  "metadata": {
    "colab": {
      "provenance": []
    },
    "kernelspec": {
      "name": "python3",
      "display_name": "Python 3"
    },
    "language_info": {
      "name": "python"
    }
  },
  "cells": [
    {
      "cell_type": "code",
      "execution_count": 1,
      "metadata": {
        "id": "BCxBZOwa5qNC",
        "colab": {
          "base_uri": "https://localhost:8080/"
        },
        "outputId": "8c43ed07-b3c4-4ded-b7e2-8576c8dd6336"
      },
      "outputs": [
        {
          "output_type": "stream",
          "name": "stdout",
          "text": [
            "Mounted at /content/drive\n"
          ]
        }
      ],
      "source": [
        "from google.colab import drive\n",
        "import os\n",
        "drive.mount('/content/drive')\n"
      ]
    },
    {
      "cell_type": "code",
      "source": [
        "work_pth = '/content/drive/MyDrive/262B_final'\n",
        "os.chdir(work_pth) # customize this line to your working directory"
      ],
      "metadata": {
        "id": "Ol3G2HFR6fEG"
      },
      "execution_count": 2,
      "outputs": []
    },
    {
      "cell_type": "code",
      "source": [
        "import numpy as np\n",
        "import pandas as pd\n",
        "import matplotlib.pyplot as plt\n",
        "import seaborn as sns"
      ],
      "metadata": {
        "id": "4DyXeJt26gX6"
      },
      "execution_count": 5,
      "outputs": []
    },
    {
      "cell_type": "code",
      "source": [
        "spx = pd.read_csv(\"etf_SPX.csv\",parse_dates=[\"Date\"])\n",
        "tesla = pd.read_csv(\"stock_TSLA.csv\",parse_dates=[\"Date\"])"
      ],
      "metadata": {
        "colab": {
          "base_uri": "https://localhost:8080/"
        },
        "id": "5SWroX086mCf",
        "outputId": "5cce1f32-83dc-4d5c-ac94-74b0fe158f8a"
      },
      "execution_count": 10,
      "outputs": [
        {
          "output_type": "stream",
          "name": "stderr",
          "text": [
            "<ipython-input-10-5789ec85da0a>:2: UserWarning: Could not infer format, so each element will be parsed individually, falling back to `dateutil`. To ensure parsing is consistent and as-expected, please specify a format.\n",
            "  tesla = pd.read_csv(\"stock_TSLA.csv\",parse_dates=[\"Date\"])\n"
          ]
        }
      ]
    },
    {
      "cell_type": "code",
      "source": [
        "print(spx.head(5))\n",
        "print(tesla.head(5))"
      ],
      "metadata": {
        "colab": {
          "base_uri": "https://localhost:8080/"
        },
        "id": "gqsRGic97yjs",
        "outputId": "16cff7d6-17ca-4207-a969-a7a6a03cdf31"
      },
      "execution_count": 11,
      "outputs": [
        {
          "output_type": "stream",
          "name": "stdout",
          "text": [
            "        Date  Close/Last     Open     High      Low\n",
            "0 2025-04-08     4982.77  5193.57  5267.47  4910.42\n",
            "1 2025-04-07     5062.25  4953.79  5246.57  4835.04\n",
            "2 2025-04-04     5074.08  5292.14  5292.14  5069.90\n",
            "3 2025-04-03     5396.52  5492.74  5499.53  5390.83\n",
            "4 2025-04-02     5670.97  5580.76  5695.31  5571.48\n",
            "        Date    Open    High     Low  Close   Adj Close        Volume\n",
            "0 2025-04-10  260.03  262.49  252.80  255.95      255.95   39,492,622\n",
            "1 2025-04-09  224.69  274.69  223.88  272.20      272.20  218,067,600\n",
            "2 2025-04-08     245  250.44  217.80  221.86      221.86  171,603,500\n",
            "3 2025-04-07  223.78  252.00  214.25  233.29      233.29  183,453,800\n",
            "4 2025-04-04  255.38  261.00  236.00  239.43      239.43  181,229,400\n"
          ]
        }
      ]
    },
    {
      "cell_type": "code",
      "source": [
        "print(\"SPX columns:\", spx.columns.tolist())\n",
        "print(\"TSLA columns:\", tesla.columns.tolist())"
      ],
      "metadata": {
        "colab": {
          "base_uri": "https://localhost:8080/"
        },
        "id": "BV28NoJT9Wy_",
        "outputId": "e52bbd02-2867-4ffa-aa6c-0475e418b1b4"
      },
      "execution_count": 15,
      "outputs": [
        {
          "output_type": "stream",
          "name": "stdout",
          "text": [
            "SPX columns: ['Date', 'Close/Last', 'Open', 'High', 'Low']\n",
            "TSLA columns: ['Date', 'Open', 'High', 'Low', 'Close\\xa0', 'Adj Close\\xa0', 'Volume']\n"
          ]
        }
      ]
    },
    {
      "cell_type": "code",
      "source": [
        "def dup_dates(df):\n",
        "    dups = df['Date'][df['Date'].duplicated()].unique()\n",
        "    print(f\"{len(dups)} duplicated dates:\", dups[:10])\n",
        "    return dups\n",
        "\n",
        "dup_dates(spx)\n",
        "dup_dates(tesla)\n"
      ],
      "metadata": {
        "colab": {
          "base_uri": "https://localhost:8080/"
        },
        "id": "O9LLGuKr9924",
        "outputId": "ac94f0c7-5981-4a4a-d3e1-0bd53c9565e0"
      },
      "execution_count": 18,
      "outputs": [
        {
          "output_type": "stream",
          "name": "stdout",
          "text": [
            "0 duplicated dates: <DatetimeArray>\n",
            "[]\n",
            "Length: 0, dtype: datetime64[ns]\n",
            "2 duplicated dates: <DatetimeArray>\n",
            "['2022-08-25 00:00:00', '2020-08-31 00:00:00']\n",
            "Length: 2, dtype: datetime64[ns]\n"
          ]
        },
        {
          "output_type": "execute_result",
          "data": {
            "text/plain": [
              "<DatetimeArray>\n",
              "['2022-08-25 00:00:00', '2020-08-31 00:00:00']\n",
              "Length: 2, dtype: datetime64[ns]"
            ]
          },
          "metadata": {},
          "execution_count": 18
        }
      ]
    },
    {
      "cell_type": "code",
      "source": [
        "spx = spx.drop_duplicates('Date', keep='last')\n",
        "tesla = tesla.drop_duplicates('Date', keep='last')\n",
        "spx_price   = spx.set_index(\"Date\")['Close/Last'].rename(\"SPX\")\n",
        "tesla_price = tesla.set_index(\"Date\")['Adj Close\\xa0'].rename(\"TSLA\")\n",
        "prices = pd.concat([spx_price, tesla_price], axis=1).dropna()\n",
        "print(prices.head(10))"
      ],
      "metadata": {
        "colab": {
          "base_uri": "https://localhost:8080/"
        },
        "id": "lwqFh68x8j52",
        "outputId": "b09f3a4c-2c39-475e-8220-40a3adf748fe"
      },
      "execution_count": 20,
      "outputs": [
        {
          "output_type": "stream",
          "name": "stdout",
          "text": [
            "                SPX   TSLA\n",
            "Date                      \n",
            "2020-04-09  2789.82  38.20\n",
            "2020-04-13  2761.63  43.40\n",
            "2020-04-14  2846.06  47.33\n",
            "2020-04-15  2783.36  48.66\n",
            "2020-04-16  2799.55  49.68\n",
            "2020-04-17  2874.56  50.26\n",
            "2020-04-20  2823.16  49.76\n",
            "2020-04-21  2736.56  45.78\n",
            "2020-04-22  2799.31  48.81\n",
            "2020-04-23  2797.80  47.04\n"
          ]
        }
      ]
    },
    {
      "cell_type": "code",
      "source": [
        "#compute log returns\n",
        "logrets = np.log(prices / prices.shift(1)).dropna()\n",
        "mu_hat = logrets.mean()            # pandas Series (SPX, TSLA)\n",
        "Sigma_hat = logrets.cov()          # 2×2 DataFrame\n",
        "print(\"\\nMean vector (daily log-return):\")\n",
        "print(mu_hat)\n",
        "print(\"\\nCovariance matrix:\")\n",
        "print(Sigma_hat)"
      ],
      "metadata": {
        "colab": {
          "base_uri": "https://localhost:8080/"
        },
        "id": "Wh8AlO0k-x_c",
        "outputId": "0c202dd6-7c6b-4cab-88fa-48fece6416e0"
      },
      "execution_count": 23,
      "outputs": [
        {
          "output_type": "stream",
          "name": "stdout",
          "text": [
            "\n",
            "Mean vector (daily log-return):\n",
            "SPX     0.000462\n",
            "TSLA    0.001402\n",
            "dtype: float64\n",
            "\n",
            "Covariance matrix:\n",
            "           SPX      TSLA\n",
            "SPX   0.000122  0.000238\n",
            "TSLA  0.000238  0.001609\n"
          ]
        }
      ]
    },
    {
      "cell_type": "code",
      "source": [
        "mu = mu_hat.values              # shape (2,)\n",
        "Sigma = Sigma_hat.values        # shape (2,2)"
      ],
      "metadata": {
        "id": "bnCLH8_DAmPb"
      },
      "execution_count": 24,
      "outputs": []
    },
    {
      "cell_type": "code",
      "source": [
        "import numpy as np, matplotlib.pyplot as plt\n",
        "\n",
        "# paramter set up\n",
        "gamma   = 1         # risk-aversion\n",
        "theta_0 = 1e-1       # starting barrier parameter\n",
        "K       = 10\n",
        "\n",
        "# helpers\n",
        "#f, g, H for given x1 and theta\n",
        "\n",
        "def obj_grad_hessian(x1, theta):\n",
        "\n",
        "    x      = np.array([x1, 1-x1])\n",
        "    ret    = mu @ x\n",
        "    risk2  = x @ Sigma @ x\n",
        "    f      = 0.5*risk2 - gamma*ret - theta*(np.log(x1)+np.log(1-x1))\n",
        "    g      = (Sigma[0,0]-Sigma[0,1]*2+Sigma[1,1])*x1 + Sigma[0,1] - gamma*(mu[0]-mu[1]) \\\n",
        "             - theta*(1/x1 - 1/(1-x1))\n",
        "    H      = (Sigma[0,0]-2*Sigma[0,1]+Sigma[1,1]) + theta*(1/x1**2 + 1/(1-x1)**2)\n",
        "    return f, g, H\n",
        "\n",
        "def newton_one_theta(x1_init, theta, tol=1e-12, maxit=20):\n",
        "    x1 = x1_init\n",
        "    for _ in range(maxit):\n",
        "        _, g, H = obj_grad_hessian(x1, theta)\n",
        "        if abs(g) < tol: break\n",
        "        dx = -g/H\n",
        "        # fraction-to-boundary line search\n",
        "        alpha = 1.0\n",
        "        while not (0 < x1+alpha*dx < 1):\n",
        "            alpha *= 0.5\n",
        "        # Armijo shrink\n",
        "        f_old, _, _ = obj_grad_hessian(x1, theta)\n",
        "        while True:\n",
        "            x_trial = x1 + alpha*dx\n",
        "            f_new,  _, _ = obj_grad_hessian(x_trial, theta)\n",
        "            if f_new <= f_old + 1e-4*alpha*g*dx:\n",
        "                break\n",
        "            alpha *= 0.5\n",
        "        x1 += alpha*dx\n",
        "    return x1\n"
      ],
      "metadata": {
        "id": "xD9FgGTRBcmM"
      },
      "execution_count": 40,
      "outputs": []
    },
    {
      "cell_type": "code",
      "source": [
        "# trace central path\n",
        "theta_list, x_list = [], []\n",
        "x1_curr = 0.5     # warm start\n",
        "for k in range(K+1):\n",
        "    theta_k = theta_0 * (0.1**k)\n",
        "    x1_curr = newton_one_theta(x1_curr, theta_k)\n",
        "    theta_list.append(theta_k)\n",
        "    x_list.append(np.array([x1_curr, 1-x1_curr]))\n",
        "\n",
        "# efficient fronteir\n",
        "grid = np.linspace(0,1,401)\n",
        "risks = np.sqrt([np.array([g,1-g]) @ Sigma @ np.array([g,1-g]) for g in grid])\n",
        "rets  = [mu @ np.array([g,1-g]) for g in grid]\n",
        "\n",
        "#plotting\n",
        "risks_c = np.sqrt([x @ Sigma @ x for x in x_list])\n",
        "rets_c  = [mu @ x for x in x_list]\n",
        "\n",
        "plt.figure(figsize=(7,5))\n",
        "plt.plot(risks, rets, lw=1.4, label='efficient frontier (x ≥ 0)')\n",
        "plt.scatter(risks_c, rets_c, c='crimson', zorder=3, label='log-barrier central path')\n",
        "plt.scatter(risks_c[-1], rets_c[-1],\n",
        "            marker='*', s=150,        # bigger star\n",
        "            c='gold', edgecolors='black',\n",
        "            zorder=6,                 # higher than dots and line\n",
        "            label='final optimum')\n",
        "plt.xlabel('σ  (daily volatility - std)')\n",
        "plt.ylabel('expected daily log-return')\n",
        "plt.title('No-short-sale Markowitz Portfolio Optimization with 2 assets- log-barrier path')\n",
        "plt.legend(); plt.grid(alpha=.3); plt.show()\n",
        "\n",
        "# report portfolio result\n",
        "x_opt  = x_list[-1]\n",
        "risk   = risks_c[-1]\n",
        "ret    = rets_c[-1]\n",
        "print(f\"Optimal no-short portfolio:\")\n",
        "print(f\"  weight SPX  = {x_opt[0]:.4f}\")\n",
        "print(f\"  weight TSLA = {x_opt[1]:.4f}\")\n",
        "print(f\"  exp-return  = {ret:.5f}  (per day)\")\n",
        "print(f\"  stdev       = {risk:.4f} (per day)\")"
      ],
      "metadata": {
        "colab": {
          "base_uri": "https://localhost:8080/",
          "height": 590
        },
        "id": "fiadtj6oOnyq",
        "outputId": "c8f9a4ee-3006-401a-9e97-30f473a1e7bf"
      },
      "execution_count": 41,
      "outputs": [
        {
          "output_type": "display_data",
          "data": {
            "text/plain": [
              "<Figure size 700x500 with 1 Axes>"
            ],
            "image/png": "[encoded data removed]"
          },
          "metadata": {}
        },
        {
          "output_type": "stream",
          "name": "stdout",
          "text": [
            "Optimal no-short portfolio:\n",
            "  weight SPX  = 0.3432\n",
            "  weight TSLA = 0.6568\n",
            "  exp-return  = 0.00108  (per day)\n",
            "  stdev       = 0.0286 (per day)\n"
          ]
        }
      ]
    }
  ]
}